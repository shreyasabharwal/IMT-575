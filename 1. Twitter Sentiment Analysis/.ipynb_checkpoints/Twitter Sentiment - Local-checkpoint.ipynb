{
 "cells": [
  {
   "cell_type": "code",
   "execution_count": 158,
   "metadata": {},
   "outputs": [],
   "source": [
    "import sys\n",
    "import json\n",
    "import re"
   ]
  },
  {
   "cell_type": "code",
   "execution_count": 159,
   "metadata": {},
   "outputs": [],
   "source": [
    "def hw():\n",
    "    print ('Hello, world!')\n"
   ]
  },
  {
   "cell_type": "code",
   "execution_count": 160,
   "metadata": {},
   "outputs": [],
   "source": [
    "def lines(fp):\n",
    "    print (str(len(fp.readlines())))"
   ]
  },
  {
   "cell_type": "code",
   "execution_count": 161,
   "metadata": {},
   "outputs": [],
   "source": [
    "list_tweet = []\n",
    "dict_sent = {}\n",
    "with open('AFINN-111.txt') as sent_file:\n",
    "    for line in sent_file:\n",
    "        dict_sent.update(\n",
    "            {line.split(\"\\t\")[0]: line.split(\"\\t\")[1].strip()})\n",
    "# print(dict_sent)"
   ]
  },
  {
   "cell_type": "code",
   "execution_count": 162,
   "metadata": {},
   "outputs": [],
   "source": [
    "#tweet_file = open(sys.argv[2])\n",
    "list_tweet=[]\n",
    "# replace with output.txt\n",
    "with open('problem_1_submission.txt', encoding = 'utf-8') as tweet_file:        \n",
    "    for line in tweet_file:\n",
    "        dict_tweet = json.loads(line)\n",
    "        list_tweet.append(dict_tweet)\n",
    "        "
   ]
  },
  {
   "cell_type": "code",
   "execution_count": 163,
   "metadata": {},
   "outputs": [],
   "source": [
    "def calculateScore(list_tweet, dict_sent):\n",
    "\n",
    "    list_score = []\n",
    "    for tweet in list_tweet:\n",
    "        tweet_score = 0\n",
    "        if 'text' in tweet.keys():\n",
    "            word_list = re.split(r'\\W+', tweet['text'])\n",
    "            for word in word_list:\n",
    "                if dict_sent.get(word, 0):\n",
    "                    tweet_score = tweet_score + int(dict_sent[word])\n",
    "                    #print(sent, score)\n",
    "        else:\n",
    "            tweet_score = 0\n",
    "\n",
    "        list_score.append(tweet_score)\n",
    "    return list_score"
   ]
  },
  {
   "cell_type": "code",
   "execution_count": 164,
   "metadata": {},
   "outputs": [],
   "source": [
    "scores = calculateScore(list_tweet, dict_sent)"
   ]
  },
  {
   "cell_type": "code",
   "execution_count": 165,
   "metadata": {},
   "outputs": [
    {
     "name": "stdout",
     "output_type": "stream",
     "text": [
      "0\n",
      "0\n",
      "0\n",
      "4\n",
      "0\n",
      "0\n",
      "0\n",
      "0\n",
      "0\n",
      "0\n",
      "0\n",
      "0\n",
      "7\n",
      "0\n",
      "0\n",
      "0\n",
      "0\n",
      "0\n",
      "-2\n",
      "0\n"
     ]
    }
   ],
   "source": [
    "for score in scores:\n",
    "        sys.stdout.write(str(score)+'\\n')"
   ]
  },
  {
   "cell_type": "code",
   "execution_count": 177,
   "metadata": {},
   "outputs": [],
   "source": [
    "def calculate_score_new_terms(list_tweet, dict_sent):\n",
    "    \n",
    "    word_list=[]\n",
    "    new_word_dict={}\n",
    "\n",
    "    for i in range(len(list_tweet)):\n",
    "        score = scores[i]\n",
    "        if 'text' in list_tweet[i].keys():\n",
    "            word_list.extend(re.split(r'\\W+', list_tweet[i]['text']))\n",
    "            for word in word_list:\n",
    "                if dict_sent.get(word, 0)==0 and new_word_dict.get(word,0)==0:\n",
    "                    new_word_dict[word] = score\n",
    "                elif dict_sent.get(word, 0)==0 and new_word_dict.get(word,0):\n",
    "                    new_word_dict[word] = new_word_dict[word] + score\n",
    "    return new_word_dict"
   ]
  },
  {
   "cell_type": "code",
   "execution_count": 179,
   "metadata": {},
   "outputs": [],
   "source": [
    "new_terms_scores = calculate_score_new_terms(list_tweet, dict_sent)"
   ]
  },
  {
   "cell_type": "code",
   "execution_count": 180,
   "metadata": {},
   "outputs": [
    {
     "name": "stdout",
     "output_type": "stream",
     "text": [
      " 39\n",
      "misiro 9\n",
      "ふぁっ 9\n",
      "初日に行ったのですね 9\n",
      "わたしはレムのが欲しいので2週目狙いで行きます 9\n",
      "ｰ 9\n",
      "映画良かったですか 9\n",
      "New 9\n",
      "members 9\n",
      "everyday 9\n",
      "find 9\n",
      "sex 9\n",
      "and 9\n",
      "magic 9\n",
      "https 17\n",
      "t 15\n",
      "co 17\n",
      "bH6mfLGHhg 9\n",
      "RT 18\n",
      "_ayosworldd 5\n",
      "Who 5\n",
      "tf 5\n",
      "is 3\n",
      "Hey 5\n",
      "iRx2k7wOAB 5\n",
      "ObamaMalik 5\n",
      "AND 5\n",
      "TODAY 5\n",
      "I 20\n",
      "ENDORSE 5\n",
      "JAIR 5\n",
      "BOLSONARO 5\n",
      "FOR 5\n",
      "PRESIDENT 5\n",
      "OF 5\n",
      "BRAZIL 5\n",
      "副業は真に稼いでいる人がいるからこそ 5\n",
      "詐欺が生まれるのです 5\n",
      "専業主婦 5\n",
      "仮想通貨 5\n",
      "ブランド 5\n",
      "lesbgif 5\n",
      "GN0Woaqa0o 5\n",
      "jownlock 5\n",
      "se 5\n",
      "o 5\n",
      "coisado 5\n",
      "vencer 5\n",
      "eu 5\n",
      "não 10\n",
      "tenho 5\n",
      "grana 5\n",
      "nem 5\n",
      "pra 10\n",
      "pagar 5\n",
      "as 5\n",
      "contas 5\n",
      "imagina 5\n",
      "sair 5\n",
      "do 5\n",
      "país 5\n",
      "minha 5\n",
      "família 5\n",
      "tem 3\n",
      "ninguém 5\n",
      "de 5\n",
      "inf 5\n",
      "selenadeusa 5\n",
      "tô 5\n",
      "rushando 5\n",
      "uma 5\n",
      "conta 5\n",
      "que 5\n",
      "tá 5\n",
      "bronze 5\n",
      "e 5\n",
      "você 5\n",
      "m 10\n",
      "to 8\n",
      "be 10\n",
      "who 5\n",
      "am 5\n",
      "僕は生きてることが幸せさ 5\n",
      "僕が僕らしくいられることが幸せなんだ 5\n",
      "Michael 5\n",
      "Jackson 5\n",
      "マイケル 5\n",
      "ジャクソン 5\n",
      "米国のシンガーソングライター 5\n",
      "can -2\n",
      "wait -2\n",
      "actually -2\n",
      "go -2\n",
      "off -2\n",
      "during -2\n",
      "tfb -2\n",
      "srh_djz -2\n",
      "Jcomprends -2\n",
      "pas -2\n",
      "sale -2\n",
      "pute -2\n",
      "021Gifs -2\n",
      "Eu -2\n",
      "vendo -2\n",
      "amor -2\n",
      "onde -2\n",
      "só -2\n",
      "caos -2\n",
      "CKV2yxBe3q -2\n",
      "The -2\n",
      "thing -2\n",
      "that -4\n",
      "me -2\n",
      "the -2\n",
      "most -2\n",
      "about -2\n",
      "their -2\n",
      "logic -2\n",
      "they -2\n",
      "re -2\n",
      "all -2\n",
      "women -2\n",
      "too -2\n",
      "DiegoSouzaDS87 0\n",
      "aposentar 0\n",
      "jogador 0\n",
      "ruim 0\n"
     ]
    }
   ],
   "source": [
    "for k,v in new_terms_scores.items():\n",
    "    print(k,v)"
   ]
  },
  {
   "cell_type": "code",
   "execution_count": null,
   "metadata": {},
   "outputs": [],
   "source": []
  }
 ],
 "metadata": {
  "kernelspec": {
   "display_name": "Python 3",
   "language": "python",
   "name": "python3"
  }
 },
 "nbformat": 4,
 "nbformat_minor": 2
}
